{
 "cells": [
  {
   "cell_type": "code",
   "execution_count": 1,
   "id": "ac623192",
   "metadata": {},
   "outputs": [],
   "source": [
    "from fastai.text.all import *\n",
    "from tokenizer import BytePairTokenizer\n",
    "from bpe_train_fast import train_bpe_fast"
   ]
  },
  {
   "cell_type": "code",
   "execution_count": 2,
   "id": "327fb769",
   "metadata": {},
   "outputs": [
    {
     "name": "stdout",
     "output_type": "stream",
     "text": [
      "--- Starting Corpus Build ---\n",
      "  Line 0: Found 85 tokens. First 5: [b'Un', b'-', b'bleeping', b'-', b'believable']\n",
      "  Line 1: Found 441 tokens. First 5: [b'This', b' is', b' a', b' extremely', b' well']\n",
      "  Line 2: Found 204 tokens. First 5: [b'Every', b' once', b' in', b' a', b' long']\n",
      "  Line 3: Found 179 tokens. First 5: [b'Name', b' just', b' says', b' it', b' all']\n",
      "  Line 4: Found 382 tokens. First 5: [b'This', b' movie', b' succeeds', b' at', b' being']\n",
      "--- Corpus Build Finished. Found 137626 unique pairs. ---\n",
      "--- Initial State ---\n",
      "Heap has 137626 items.\n",
      "Top 5 most frequent pairs in heap:\n",
      "  Pair: (b' /><', b'br'), Freq: 2108\n",
      "  Pair: (b'br', b' /><'), Freq: 2108\n",
      "  Pair: (b'br', b' />'), Freq: 2010\n",
      "  Pair: (b' of', b' the'), Freq: 1692\n",
      "  Pair: (b'.<', b'br'), Freq: 1548\n",
      "-------------------------\n"
     ]
    },
    {
     "data": {
      "text/html": [
       "\n",
       "<style>\n",
       "    /* Turns off some styling */\n",
       "    progress {\n",
       "        /* gets rid of default border in Firefox and Opera. */\n",
       "        border: none;\n",
       "        /* Needs to be in here for Safari polyfill so background images work as expected. */\n",
       "        background-size: auto;\n",
       "    }\n",
       "    progress:not([value]), progress:not([value])::-webkit-progress-bar {\n",
       "        background: repeating-linear-gradient(45deg, #7e7e7e, #7e7e7e 10px, #5c5c5c 10px, #5c5c5c 20px);\n",
       "    }\n",
       "    .progress-bar-interrupted, .progress-bar-interrupted::-webkit-progress-bar {\n",
       "        background: #F44336;\n",
       "    }\n",
       "</style>\n"
      ],
      "text/plain": [
       "<IPython.core.display.HTML object>"
      ]
     },
     "metadata": {},
     "output_type": "display_data"
    },
    {
     "data": {
      "text/html": [],
      "text/plain": [
       "<IPython.core.display.HTML object>"
      ]
     },
     "metadata": {},
     "output_type": "display_data"
    }
   ],
   "source": [
    "# --- 1. Load, CLEAN, and Train (Your code is perfect) ---\n",
    "path = uantar_datapath = untar_data(URLs.IMDB_SAMPLE)\n",
    "df   = pd.read_csv(path/'texts.csv')\n",
    "# # This is the crucial step you added that solves the indexing issue.\n",
    "# df = df[df['text'].str.strip().ne('')].reset_index(drop=True)\n",
    "\n",
    "itos, stoi, merges = train_bpe_fast(df[\"text\"], vocab_size=2048)"
   ]
  },
  {
   "cell_type": "code",
   "execution_count": null,
   "id": "ee1dc0e0",
   "metadata": {},
   "outputs": [
    {
     "name": "stdout",
     "output_type": "stream",
     "text": [
      "--- Creating DataLoaders with the CORRECT padding hook ---\n",
      "--- DataLoaders created successfully! ---\n"
     ]
    },
    {
     "data": {
      "text/html": [
       "<table border=\"1\" class=\"dataframe\">\n",
       "  <thead>\n",
       "    <tr style=\"text-align: right;\">\n",
       "      <th></th>\n",
       "      <th>text</th>\n",
       "      <th>category</th>\n",
       "    </tr>\n",
       "  </thead>\n",
       "  <tbody>\n",
       "    <tr>\n",
       "      <th>0</th>\n",
       "      <td>Come on. The new twist is nearly ok, but from avenging the Elm Street children Freddy is just killing people now. More of the sa</td>\n",
       "      <td>negative</td>\n",
       "    </tr>\n",
       "    <tr>\n",
       "      <th>1</th>\n",
       "      <td>\"Some day, we'll walk in the rays of a beautiful sun. Some day, when the world is much brighter\"- The 5 Stairsteps \"O-o-h Child\"</td>\n",
       "      <td>positive</td>\n",
       "    </tr>\n",
       "    <tr>\n",
       "      <th>2</th>\n",
       "      <td>The pre-release version of 1933's \"Baby Face\" would make an ideal introduction to a corporate seminar on sexual harassment. Ment</td>\n",
       "      <td>positive</td>\n",
       "    </tr>\n",
       "    <tr>\n",
       "      <th>3</th>\n",
       "      <td>Erich Rohmer's \"L'Anglaise et le duc\" makes a perfect companion piece to Peter Watkins' \"La Commune (Paris 1871).\" Both films -s</td>\n",
       "      <td>positive</td>\n",
       "    </tr>\n",
       "  </tbody>\n",
       "</table>"
      ],
      "text/plain": [
       "<IPython.core.display.HTML object>"
      ]
     },
     "metadata": {},
     "output_type": "display_data"
    }
   ],
   "source": [
    "# --- All your setup code is perfect ---\n",
    "bpe_tok = BytePairTokenizer(itos, merges)\n",
    "vocab_str = [b.decode('latin1') for b in itos]\n",
    "pad_tok_id = stoi[b'<pad>']\n",
    "\n",
    "\n",
    "class Trncate(Transform):\n",
    "    \"A transform that truncates a list of tokens to a max length\"\n",
    "    def __init__(self, max_len):\n",
    "        self.max_len = max_len\n",
    "    def encodes(self, tokens:list) -> list:\n",
    "        return tokens[:self.max_len]\n",
    "\n",
    "class BPENumericalize(Numericalize):\n",
    "    \"A Numericalize transform that decodes back to a list of tokens\"\n",
    "    def decodes(self, o:TensorText) -> list:\n",
    "        # Return a list of string-tokens, not a single joined string\n",
    "        return [self.vocab[o_] for o_ in o if self.vocab[o_]]\n",
    "\n",
    "bpe_num = BPENumericalize(vocab=vocab_str) # pad_tok_id is not a valid argument for Numericalize\n",
    "\n",
    "dblock = DataBlock(\n",
    "    blocks=(TransformBlock(type_tfms=[bpe_tok, Trncate(128), bpe_num]),\n",
    "            CategoryBlock),\n",
    "    get_x=ColReader('text'),\n",
    "    get_y=ColReader('label'),\n",
    "    splitter=RandomSplitter(seed=42)\n",
    ")\n",
    "\n",
    "# --- 4. Create the DataLoaders, passing Pad_Chunk to the correct hook ---\n",
    "dls = dblock.dataloaders(df, bs=16, seq_len=128, before_batch=Pad_Chunk(pad_idx=pad_tok_id))\n",
    "\n",
    "# --- 5. VICTORY LAP ---\n",
    "dls.show_batch(max_n=4)"
   ]
  },
  {
   "cell_type": "code",
   "execution_count": 25,
   "id": "5691a016",
   "metadata": {},
   "outputs": [],
   "source": [
    "x, y = dls.one_batch()"
   ]
  },
  {
   "cell_type": "code",
   "execution_count": 26,
   "id": "30659716",
   "metadata": {},
   "outputs": [
    {
     "data": {
      "text/plain": [
       "(torch.Size([16, 128]), torch.Size([16]))"
      ]
     },
     "execution_count": 26,
     "metadata": {},
     "output_type": "execute_result"
    }
   ],
   "source": [
    "x.shape, y.shape"
   ]
  },
  {
   "cell_type": "code",
   "execution_count": 27,
   "id": "efc21d12",
   "metadata": {},
   "outputs": [
    {
     "data": {
      "text/plain": [
       "TensorText([[ 65, 109, 101,  ...,  99, 114,  97],\n",
       "            [ 84, 104, 105,  ..., 105, 115,  32],\n",
       "            [ 65, 108, 109,  ...,  97, 108, 108],\n",
       "            ...,\n",
       "            [119, 101, 108,  ...,  32,  97, 115],\n",
       "            [ 74,  97,  99,  ...,  66, 117, 116],\n",
       "            [ 84, 104, 105,  ..., 100,  32, 116]], device='mps:0')"
      ]
     },
     "execution_count": 27,
     "metadata": {},
     "output_type": "execute_result"
    }
   ],
   "source": [
    "x"
   ]
  }
 ],
 "metadata": {
  "kernelspec": {
   "display_name": "deep-dispatch",
   "language": "python",
   "name": "deep-dispatch"
  },
  "language_info": {
   "codemirror_mode": {
    "name": "ipython",
    "version": 3
   },
   "file_extension": ".py",
   "mimetype": "text/x-python",
   "name": "python",
   "nbconvert_exporter": "python",
   "pygments_lexer": "ipython3",
   "version": "3.11.13"
  }
 },
 "nbformat": 4,
 "nbformat_minor": 5
}
